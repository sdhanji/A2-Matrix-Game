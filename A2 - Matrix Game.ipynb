{
 "cells": [
  {
   "cell_type": "code",
   "execution_count": 1,
   "id": "88c19c75-7d30-4ab0-8954-699521e84310",
   "metadata": {
    "tags": []
   },
   "outputs": [],
   "source": [
    "import numpy as np\n",
    "import random"
   ]
  },
  {
   "cell_type": "code",
   "execution_count": 2,
   "id": "b65591b9-2409-4688-a2f2-76860f6d6255",
   "metadata": {},
   "outputs": [],
   "source": [
    "#matrix game if playing against bot \n",
    "\n",
    "def game(myturn, emptyPositions, count):\n",
    "    global grid #matrix\n",
    "    if myturn == 1: #for who's turn it is\n",
    "        \n",
    "        #asks what row & column you want to play in\n",
    "        #adds your play into matrix\n",
    "        #removes entry from avaiable positions (so random bot doesn't try to play there)\n",
    "        r = int(input('Row?'))\n",
    "        c = int(input('Column?'))\n",
    "        grid[r-1][c-1] = 0\n",
    "        emptyPositions = np.setdiff1d(emptyPositions, [(r-1)*size + c])\n",
    "        myturn = 0\n",
    "        \n",
    "\n",
    "    else:\n",
    "        #chooses random number from avaiable positions#\n",
    "        #works out what row and column that is\n",
    "        #plays bots move there and removes entry from avaiable positions \n",
    "        x = int(random.choice(emptyPositions))\n",
    "        c = int(x % size)\n",
    "        if c == 0:\n",
    "            c = size\n",
    "        r = int(((x - c) / size) + 1)\n",
    "        grid[r-1][c-1] = 1\n",
    "        emptyPositions = np.setdiff1d(emptyPositions, [x])\n",
    "        myturn = 1\n",
    "        \n",
    "    print(grid) #shows you matrix so far\n",
    "    count-=1 #count starts at number of entries in matrix, decreases every go, game ends once it reaches 0\n",
    "    if count == 0:\n",
    "        return 0\n",
    "    else:\n",
    "        game(myturn, emptyPositions, count)"
   ]
  },
  {
   "cell_type": "code",
   "execution_count": 3,
   "id": "c91910ba-ab76-4127-adc9-b1e47fca8f64",
   "metadata": {},
   "outputs": [],
   "source": [
    "#matrix game for 2 players/playing against yourself (for testing)\n",
    "\n",
    "def game1(myturn, count):\n",
    "    global grid\n",
    "    if myturn == 1:\n",
    "        #choose row & columns, enters a 0\n",
    "        r = int(input('Row?'))\n",
    "        c = int(input('Column?'))\n",
    "        grid[r-1][c-1] = 0\n",
    "        myturn = 0\n",
    "        \n",
    "\n",
    "    else:\n",
    "        #choose row and column, enters a 1\n",
    "        r = int(input('Row?'))\n",
    "        c = int(input('Column?'))\n",
    "        grid[r-1][c-1] = 1\n",
    "        myturn = 1\n",
    "        \n",
    "    print(grid)\n",
    "    count-=1 #game ends when count reaches 0\n",
    "    if count == 0:\n",
    "        return 0\n",
    "    else:\n",
    "        game1(myturn, count)"
   ]
  },
  {
   "cell_type": "code",
   "execution_count": null,
   "id": "f5bbc916-f531-484a-824b-303a417fa896",
   "metadata": {
    "tags": []
   },
   "outputs": [],
   "source": [
    "size = int(input('What size grid? (enter length of square)'))\n",
    "bot = str(input('bot? (y for yes)'))\n",
    "grid = np.full(shape=(size, size), fill_value='') #empty grid\n",
    "turnsLeft = size * size #total number of moves in game = number of entries in matrix\n",
    "empty = np.arange(1, turnsLeft+1) #list of available moves, adjusted throughout so bot doesn't try to play in taken position\n",
    "print(grid)      \n",
    "\n",
    "\n",
    "\n",
    "myturn = 0 # 1 = player starts first, 0 = bot starts first\n",
    "\n",
    "if bot == 'y':\n",
    "    game(myturn, empty, turnsLeft)\n",
    "else:\n",
    "    game1(myturn, turnsLeft)\n",
    "\n",
    "#calculate determinant to find winner\n",
    "grid = np.array(grid, dtype=float)\n",
    "det = np.linalg.det(grid)\n",
    "print('Determinant = ', det)\n",
    "if det==0:\n",
    "    print(\"You win\")\n",
    "else:\n",
    "    print(\"You lose\")\n"
   ]
  },
  {
   "cell_type": "code",
   "execution_count": null,
   "id": "bee022e5-6005-484f-9d79-2907d212cb34",
   "metadata": {},
   "outputs": [],
   "source": []
  }
 ],
 "metadata": {
  "kernelspec": {
   "display_name": "Python 3 (ipykernel)",
   "language": "python",
   "name": "python3"
  },
  "language_info": {
   "codemirror_mode": {
    "name": "ipython",
    "version": 3
   },
   "file_extension": ".py",
   "mimetype": "text/x-python",
   "name": "python",
   "nbconvert_exporter": "python",
   "pygments_lexer": "ipython3",
   "version": "3.11.5"
  }
 },
 "nbformat": 4,
 "nbformat_minor": 5
}
